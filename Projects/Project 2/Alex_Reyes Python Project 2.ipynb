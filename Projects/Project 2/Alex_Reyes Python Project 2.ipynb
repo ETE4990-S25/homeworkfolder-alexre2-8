{
 "cells": [
  {
   "cell_type": "markdown",
   "id": "8ec8aff8",
   "metadata": {},
   "source": [
    "Intially given function for finding primes as per the instructions"
   ]
  },
  {
   "cell_type": "code",
   "execution_count": 1,
   "id": "1552de34",
   "metadata": {},
   "outputs": [
    {
     "name": "stdout",
     "output_type": "stream",
     "text": [
      "1743834743.620882\n"
     ]
    }
   ],
   "source": [
    "import time\n",
    "import math\n",
    "\n",
    "def is_prime(n):\n",
    "    if n <= 1:\n",
    "        return False\n",
    "    for i in range(2, int(n ** 0.5) + 1):\n",
    "        if n % i == 0:\n",
    "            return False\n",
    "    return True\n",
    "\n",
    "\n",
    "\n",
    "\n",
    "print(time.time())"
   ]
  },
  {
   "cell_type": "markdown",
   "id": "a588d920",
   "metadata": {},
   "source": [
    "Asynchronous Application"
   ]
  },
  {
   "cell_type": "code",
   "execution_count": null,
   "id": "abfa192b",
   "metadata": {},
   "outputs": [
    {
     "name": "stdout",
     "output_type": "stream",
     "text": [
      "Async highest prime: 13997911\n",
      "Fibonacci number closest to highest prime: 16777216\n"
     ]
    },
    {
     "ename": "KeyboardInterrupt",
     "evalue": "",
     "output_type": "error",
     "traceback": [
      "\u001b[1;31m---------------------------------------------------------------------------\u001b[0m",
      "\u001b[1;31mKeyboardInterrupt\u001b[0m                         Traceback (most recent call last)",
      "Cell \u001b[1;32mIn[28], line 39\u001b[0m\n\u001b[0;32m     37\u001b[0m    \u001b[38;5;28;01mawait\u001b[39;00m asyncio\u001b[38;5;241m.\u001b[39mgather(task1,task2)\n\u001b[0;32m     38\u001b[0m asyncio\u001b[38;5;241m.\u001b[39mrun(prime_calc())\n\u001b[1;32m---> 39\u001b[0m asyncio\u001b[38;5;241m.\u001b[39mrun(simultFiFa())\n",
      "File \u001b[1;32mc:\\Users\\alexr\\anaconda3\\Lib\\asyncio\\tasks.py:385\u001b[0m, in \u001b[0;36mTask.__wakeup\u001b[1;34m(self, future)\u001b[0m\n\u001b[0;32m    383\u001b[0m \u001b[38;5;28;01mdef\u001b[39;00m \u001b[38;5;21m__wakeup\u001b[39m(\u001b[38;5;28mself\u001b[39m, future):\n\u001b[0;32m    384\u001b[0m     \u001b[38;5;28;01mtry\u001b[39;00m:\n\u001b[1;32m--> 385\u001b[0m         future\u001b[38;5;241m.\u001b[39mresult()\n\u001b[0;32m    386\u001b[0m     \u001b[38;5;28;01mexcept\u001b[39;00m \u001b[38;5;167;01mBaseException\u001b[39;00m \u001b[38;5;28;01mas\u001b[39;00m exc:\n\u001b[0;32m    387\u001b[0m         \u001b[38;5;66;03m# This may also be a cancellation.\u001b[39;00m\n\u001b[0;32m    388\u001b[0m         \u001b[38;5;28mself\u001b[39m\u001b[38;5;241m.\u001b[39m__step(exc)\n",
      "File \u001b[1;32mc:\\Users\\alexr\\anaconda3\\Lib\\site-packages\\nest_asyncio.py:30\u001b[0m, in \u001b[0;36m_patch_asyncio.<locals>.run\u001b[1;34m(main, debug)\u001b[0m\n\u001b[0;32m     28\u001b[0m task \u001b[38;5;241m=\u001b[39m asyncio\u001b[38;5;241m.\u001b[39mensure_future(main)\n\u001b[0;32m     29\u001b[0m \u001b[38;5;28;01mtry\u001b[39;00m:\n\u001b[1;32m---> 30\u001b[0m     \u001b[38;5;28;01mreturn\u001b[39;00m loop\u001b[38;5;241m.\u001b[39mrun_until_complete(task)\n\u001b[0;32m     31\u001b[0m \u001b[38;5;28;01mfinally\u001b[39;00m:\n\u001b[0;32m     32\u001b[0m     \u001b[38;5;28;01mif\u001b[39;00m \u001b[38;5;129;01mnot\u001b[39;00m task\u001b[38;5;241m.\u001b[39mdone():\n",
      "File \u001b[1;32mc:\\Users\\alexr\\anaconda3\\Lib\\site-packages\\nest_asyncio.py:92\u001b[0m, in \u001b[0;36m_patch_loop.<locals>.run_until_complete\u001b[1;34m(self, future)\u001b[0m\n\u001b[0;32m     90\u001b[0m     f\u001b[38;5;241m.\u001b[39m_log_destroy_pending \u001b[38;5;241m=\u001b[39m \u001b[38;5;28;01mFalse\u001b[39;00m\n\u001b[0;32m     91\u001b[0m \u001b[38;5;28;01mwhile\u001b[39;00m \u001b[38;5;129;01mnot\u001b[39;00m f\u001b[38;5;241m.\u001b[39mdone():\n\u001b[1;32m---> 92\u001b[0m     \u001b[38;5;28mself\u001b[39m\u001b[38;5;241m.\u001b[39m_run_once()\n\u001b[0;32m     93\u001b[0m     \u001b[38;5;28;01mif\u001b[39;00m \u001b[38;5;28mself\u001b[39m\u001b[38;5;241m.\u001b[39m_stopping:\n\u001b[0;32m     94\u001b[0m         \u001b[38;5;28;01mbreak\u001b[39;00m\n",
      "File \u001b[1;32mc:\\Users\\alexr\\anaconda3\\Lib\\site-packages\\nest_asyncio.py:133\u001b[0m, in \u001b[0;36m_patch_loop.<locals>._run_once\u001b[1;34m(self)\u001b[0m\n\u001b[0;32m    130\u001b[0m curr_task \u001b[38;5;241m=\u001b[39m curr_tasks\u001b[38;5;241m.\u001b[39mpop(\u001b[38;5;28mself\u001b[39m, \u001b[38;5;28;01mNone\u001b[39;00m)\n\u001b[0;32m    132\u001b[0m \u001b[38;5;28;01mtry\u001b[39;00m:\n\u001b[1;32m--> 133\u001b[0m     handle\u001b[38;5;241m.\u001b[39m_run()\n\u001b[0;32m    134\u001b[0m \u001b[38;5;28;01mfinally\u001b[39;00m:\n\u001b[0;32m    135\u001b[0m     \u001b[38;5;66;03m# restore the current task\u001b[39;00m\n\u001b[0;32m    136\u001b[0m     \u001b[38;5;28;01mif\u001b[39;00m curr_task \u001b[38;5;129;01mis\u001b[39;00m \u001b[38;5;129;01mnot\u001b[39;00m \u001b[38;5;28;01mNone\u001b[39;00m:\n",
      "File \u001b[1;32mc:\\Users\\alexr\\anaconda3\\Lib\\asyncio\\events.py:88\u001b[0m, in \u001b[0;36mHandle._run\u001b[1;34m(self)\u001b[0m\n\u001b[0;32m     86\u001b[0m \u001b[38;5;28;01mdef\u001b[39;00m \u001b[38;5;21m_run\u001b[39m(\u001b[38;5;28mself\u001b[39m):\n\u001b[0;32m     87\u001b[0m     \u001b[38;5;28;01mtry\u001b[39;00m:\n\u001b[1;32m---> 88\u001b[0m         \u001b[38;5;28mself\u001b[39m\u001b[38;5;241m.\u001b[39m_context\u001b[38;5;241m.\u001b[39mrun(\u001b[38;5;28mself\u001b[39m\u001b[38;5;241m.\u001b[39m_callback, \u001b[38;5;241m*\u001b[39m\u001b[38;5;28mself\u001b[39m\u001b[38;5;241m.\u001b[39m_args)\n\u001b[0;32m     89\u001b[0m     \u001b[38;5;28;01mexcept\u001b[39;00m (\u001b[38;5;167;01mSystemExit\u001b[39;00m, \u001b[38;5;167;01mKeyboardInterrupt\u001b[39;00m):\n\u001b[0;32m     90\u001b[0m         \u001b[38;5;28;01mraise\u001b[39;00m\n",
      "File \u001b[1;32mc:\\Users\\alexr\\anaconda3\\Lib\\asyncio\\tasks.py:303\u001b[0m, in \u001b[0;36mTask.__step\u001b[1;34m(self, exc)\u001b[0m\n\u001b[0;32m    301\u001b[0m _enter_task(\u001b[38;5;28mself\u001b[39m\u001b[38;5;241m.\u001b[39m_loop, \u001b[38;5;28mself\u001b[39m)\n\u001b[0;32m    302\u001b[0m \u001b[38;5;28;01mtry\u001b[39;00m:\n\u001b[1;32m--> 303\u001b[0m     \u001b[38;5;28mself\u001b[39m\u001b[38;5;241m.\u001b[39m__step_run_and_handle_result(exc)\n\u001b[0;32m    304\u001b[0m \u001b[38;5;28;01mfinally\u001b[39;00m:\n\u001b[0;32m    305\u001b[0m     _leave_task(\u001b[38;5;28mself\u001b[39m\u001b[38;5;241m.\u001b[39m_loop, \u001b[38;5;28mself\u001b[39m)\n",
      "File \u001b[1;32mc:\\Users\\alexr\\anaconda3\\Lib\\asyncio\\tasks.py:314\u001b[0m, in \u001b[0;36mTask.__step_run_and_handle_result\u001b[1;34m(***failed resolving arguments***)\u001b[0m\n\u001b[0;32m    310\u001b[0m \u001b[38;5;28;01mtry\u001b[39;00m:\n\u001b[0;32m    311\u001b[0m     \u001b[38;5;28;01mif\u001b[39;00m exc \u001b[38;5;129;01mis\u001b[39;00m \u001b[38;5;28;01mNone\u001b[39;00m:\n\u001b[0;32m    312\u001b[0m         \u001b[38;5;66;03m# We use the `send` method directly, because coroutines\u001b[39;00m\n\u001b[0;32m    313\u001b[0m         \u001b[38;5;66;03m# don't have `__iter__` and `__next__` methods.\u001b[39;00m\n\u001b[1;32m--> 314\u001b[0m         result \u001b[38;5;241m=\u001b[39m coro\u001b[38;5;241m.\u001b[39msend(\u001b[38;5;28;01mNone\u001b[39;00m)\n\u001b[0;32m    315\u001b[0m     \u001b[38;5;28;01melse\u001b[39;00m:\n\u001b[0;32m    316\u001b[0m         result \u001b[38;5;241m=\u001b[39m coro\u001b[38;5;241m.\u001b[39mthrow(exc)\n",
      "Cell \u001b[1;32mIn[28], line 30\u001b[0m, in \u001b[0;36masfactorial\u001b[1;34m(factval)\u001b[0m\n\u001b[0;32m     28\u001b[0m result\u001b[38;5;241m=\u001b[39m\u001b[38;5;241m1\u001b[39m\n\u001b[0;32m     29\u001b[0m \u001b[38;5;28;01mwhile\u001b[39;00m n\u001b[38;5;241m<\u001b[39mfactval\u001b[38;5;241m+\u001b[39m\u001b[38;5;241m1\u001b[39m:\n\u001b[1;32m---> 30\u001b[0m    result\u001b[38;5;241m=\u001b[39mresult\u001b[38;5;241m*\u001b[39mn\n\u001b[0;32m     31\u001b[0m    n\u001b[38;5;241m+\u001b[39m\u001b[38;5;241m=\u001b[39m\u001b[38;5;241m1\u001b[39m \n\u001b[0;32m     32\u001b[0m \u001b[38;5;28mprint\u001b[39m(\u001b[38;5;124mf\u001b[39m\u001b[38;5;124m\"\u001b[39m\u001b[38;5;124mFactorial of \u001b[39m\u001b[38;5;132;01m{\u001b[39;00mfactval\u001b[38;5;132;01m}\u001b[39;00m\u001b[38;5;124m:\u001b[39m\u001b[38;5;132;01m{\u001b[39;00mresult\u001b[38;5;132;01m}\u001b[39;00m\u001b[38;5;124m\"\u001b[39m)\n",
      "\u001b[1;31mKeyboardInterrupt\u001b[0m: "
     ]
    }
   ],
   "source": [
    "import asyncio \n",
    "import nest_asyncio\n",
    "import numpy as np\n",
    "import math\n",
    "nest_asyncio.apply()\n",
    "\n",
    "maxprime_asy=0\n",
    "async def prime_calc():\n",
    "    start_time = time.time()\n",
    "    primestor=[]\n",
    "    primecount=0\n",
    "    while (time.time()-start_time < 180): \n",
    "        if  is_prime(primecount)==True:\n",
    "            primestor.append(primecount)\n",
    "        primecount +=1\n",
    "    global maxprime_asy \n",
    "    maxprime_asy=primestor[-1]\n",
    "    print( \"Async highest prime:\",maxprime_asy)\n",
    "#Fibonacci Sequence\n",
    "async def asyncfib(fiblimit):\n",
    "    i=0\n",
    "    j=1\n",
    "    saveseq=[]\n",
    "    while i < fiblimit:\n",
    "     #i=j\n",
    "     #j=i+j\n",
    "     saveseq.append(i)\n",
    "     i,j=j,i+j #after testing this is what produces the actual sequence\n",
    "    print( \"Fibonacci number closest to highest prime:\",saveseq[-1])\n",
    "#factorial\n",
    "async def asfactorial(factval):\n",
    "#   n=1\n",
    " #  result=1\n",
    "  # while n<factval+1:\n",
    "   #   result=result*n\n",
    "    #  n+=1 \n",
    "    result= math.factorial(factval)\n",
    "    print(f\"Factorial of {factval}:{result}\") \n",
    "\n",
    "async def simultFiFa():\n",
    "   task1=asyncfib(maxprime_asy)\n",
    "   task2=asfactorial(maxprime_asy)\n",
    "   await asyncio.gather(task1,task2)\n",
    "asyncio.run(prime_calc())\n",
    "asyncio.run(simultFiFa())"
   ]
  },
  {
   "cell_type": "markdown",
   "id": "7be121d5",
   "metadata": {},
   "source": [
    "Threaded Application\n"
   ]
  },
  {
   "cell_type": "code",
   "execution_count": 5,
   "id": "5aa2daf1",
   "metadata": {},
   "outputs": [
    {
     "name": "stdout",
     "output_type": "stream",
     "text": [
      "Threaded highest prime: 2692747\n",
      "Fibonacci number closest to highest prime: 2178309\n"
     ]
    },
    {
     "ename": "ValueError",
     "evalue": "Exceeds the limit (4300 digits) for integer string conversion; use sys.set_int_max_str_digits() to increase the limit",
     "output_type": "error",
     "traceback": [
      "\u001b[1;31m---------------------------------------------------------------------------\u001b[0m",
      "\u001b[1;31mValueError\u001b[0m                                Traceback (most recent call last)",
      "Cell \u001b[1;32mIn[5], line 53\u001b[0m\n\u001b[0;32m     51\u001b[0m \u001b[38;5;28;01mfor\u001b[39;00m thread \u001b[38;5;129;01min\u001b[39;00m th3:\n\u001b[0;32m     52\u001b[0m     thread\u001b[38;5;241m.\u001b[39mjoin()\n\u001b[1;32m---> 53\u001b[0m \u001b[38;5;28mprint\u001b[39m(\u001b[38;5;124mf\u001b[39m\u001b[38;5;124m\"\u001b[39m\u001b[38;5;124mFactorial of \u001b[39m\u001b[38;5;132;01m{\u001b[39;00mthfinalpr\u001b[38;5;132;01m}\u001b[39;00m\u001b[38;5;124m:\u001b[39m\u001b[38;5;132;01m{\u001b[39;00mthresult\u001b[38;5;132;01m}\u001b[39;00m\u001b[38;5;124m\"\u001b[39m)\n",
      "\u001b[1;31mValueError\u001b[0m: Exceeds the limit (4300 digits) for integer string conversion; use sys.set_int_max_str_digits() to increase the limit"
     ]
    }
   ],
   "source": [
    "import threading\n",
    "import time\n",
    "thfinalpr=0\n",
    "def thprimcal():\n",
    "    start_time = time.time()\n",
    "    thprimestor=[]\n",
    "    thprimecount=0\n",
    "    while (time.time()-start_time < 18): \n",
    "        if is_prime(thprimecount)==True:\n",
    "            thprimestor.append(thprimecount)\n",
    "        thprimecount +=1\n",
    "    global thfinalpr \n",
    "    thfinalpr = thprimestor[-1]\n",
    "\n",
    "thfibfinal=0\n",
    "def thfib(thMax):\n",
    "    ti=0\n",
    "    tj=1\n",
    "    thseq=[]\n",
    "    while ti < thMax:\n",
    "        thseq.append(ti)\n",
    "        ti,tj=tj,ti+tj\n",
    "    #print( \"Fibonacci number closest to highest prime:\",thseq[-1])\n",
    "    global thfibfinal \n",
    "    thfibfinal = thseq[-1]\n",
    "\n",
    "thresult=0\n",
    "def thFacto(thMaxf):\n",
    "    global thresult\n",
    "    thresult= math.factorial(thMaxf)\n",
    "    #print(f\"Factorial of {thMaxf}:{thresult}\") \n",
    "\n",
    "\n",
    "threads = [threading.Thread(target=thprimcal()) for _ in range(10)]  #taken and modified from threading example in notes {start}\n",
    "for thread in threads:\n",
    "    thread.start()\n",
    "for thread in threads:\n",
    "    thread.join()       #taken and modified from threading example in notes {end}\n",
    "print( \"Threaded highest prime:\", thfinalpr)\n",
    "\n",
    "threads2=[threading.Thread(target=thfib(thfinalpr)) for _ in range(10)]\n",
    "for thread in threads2:\n",
    "    thread.start()\n",
    "for thread in threads2:\n",
    "    thread.join()\n",
    "print( \"Fibonacci number closest to highest prime:\",thfibfinal)\n",
    "\n",
    "th3=[threading.Thread(target=thFacto(thfinalpr)) for _ in range(10)]\n",
    "for thread in th3:\n",
    "    thread.start()\n",
    "for thread in th3:\n",
    "    thread.join()\n",
    "print(f\"Factorial of {thfinalpr}:{thresult}\")"
   ]
  },
  {
   "cell_type": "markdown",
   "id": "243582c7",
   "metadata": {},
   "source": [
    "Multi Core Application"
   ]
  },
  {
   "cell_type": "code",
   "execution_count": null,
   "id": "01c2a545",
   "metadata": {},
   "outputs": [],
   "source": [
    "from  multiprocessing import Process \n",
    "import time\n",
    "mpfinalpr=0\n",
    "def mpprimcal():\n",
    "    start_time = time.time()\n",
    "    mpprimestor=[]\n",
    "    mpprimecount=0\n",
    "    while (time.time()-start_time < 36): \n",
    "        if is_prime(mpprimecount)==True:\n",
    "            mpprimestor.append(mpprimecount)\n",
    "        mpprimecount +=1\n",
    "    global mpfinalpr \n",
    "    mpfinalpr = mpprimestor[-1]\n",
    "\n",
    "mpfibfinal=0\n",
    "\n",
    "def mpfib(mpMax):\n",
    "    mpi=0\n",
    "    mpj=1\n",
    "    mpseq=[]\n",
    "    while mpi < mpMax:\n",
    "        mpseq.append(mpi)\n",
    "        mpi,mpj=mpj,mpi+mpj\n",
    "    global mpfibfinal \n",
    "    mpfibfinal = mpseq[-1]\n",
    "\n",
    "mpresult=0\n",
    "def mpFacto(mpMaxf):\n",
    "    global mpresult\n",
    "    mpresult= math.factorial(mpMaxf)\n",
    "\n",
    "def simultmpFiFa():\n",
    "   proc1=Process(target=mpfib(mpfinalpr))\n",
    "   proc2=Process(target=mpFacto(mpfinalpr))\n",
    "   proc1.start()\n",
    "   proc2.start()\n",
    "   proc1.join()\n",
    "   proc2.join()\n",
    "if __name__ == \"__main__\":\n",
    "    mpProc1 = [Process(target=mpprimcal()) for _ in range(5)] #taken and modified from multiprocess example in notes {start}\n",
    "    for process in mpProc1:\n",
    "        process.start()\n",
    "\n",
    "    for process in mpProc1:\n",
    "        process.join() #taken and modified from multiprocess example in notes {end}\n",
    "    mproc2=[Process(target=simultmpFiFa()) for _ in range(5)]\n",
    "    for process in mproc2:\n",
    "        process.start()\n",
    "\n",
    "    for process in mproc2:\n",
    "        process.join()\n",
    "print( \"Multiprocess highest prime:\", mpfinalpr)\n",
    "print( \"Fibonacci number closest to highest prime:\",mpfibfinal)\n",
    "print(f\"Factorial of {mpfinalpr}:{mpresult}\")\n",
    "\n",
    "# ^^^ doesnt seem to be working, program going right past the 3 minute time limit for finding the prime number\n"
   ]
  },
  {
   "cell_type": "markdown",
   "id": "379aaf84",
   "metadata": {},
   "source": [
    "Testing functions in isolation below"
   ]
  },
  {
   "cell_type": "code",
   "execution_count": null,
   "id": "25db5766",
   "metadata": {},
   "outputs": [],
   "source": [
    "import numpy as np\n",
    "import math \n",
    "#misceallaneous testing\n",
    "\n",
    "#def factial(fatval):\n",
    " #   m=1\n",
    "  #  p=1\n",
    "   # while m<fatval+1:\n",
    "    #  p=p*(m)\n",
    "     # print(m)\n",
    "      #m+=1\n",
    "    #return p\n",
    "#print(factial(10)) \n",
    "\n",
    "\n",
    "\n",
    "def fib(fiblimit):\n",
    "    z=0\n",
    "    x=1\n",
    "    saveval=[]\n",
    "    while z < fiblimit:\n",
    "      saveval.append(z)\n",
    "      z,x=x,z+x\n",
    "    \n",
    "      #print(x) \n",
    "    print( \"Fibonacci number closest to highest prime:\",saveval[-1])\n",
    "\n",
    "fib(13997911)\n",
    "testresult= math.factorial(13997911)\n",
    "print(testresult)"
   ]
  }
 ],
 "metadata": {
  "kernelspec": {
   "display_name": "base",
   "language": "python",
   "name": "python3"
  },
  "language_info": {
   "codemirror_mode": {
    "name": "ipython",
    "version": 3
   },
   "file_extension": ".py",
   "mimetype": "text/x-python",
   "name": "python",
   "nbconvert_exporter": "python",
   "pygments_lexer": "ipython3",
   "version": "3.12.7"
  }
 },
 "nbformat": 4,
 "nbformat_minor": 5
}
