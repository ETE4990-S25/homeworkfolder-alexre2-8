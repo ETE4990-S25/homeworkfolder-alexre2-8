{
 "cells": [
  {
   "cell_type": "markdown",
   "id": "8ec8aff8",
   "metadata": {},
   "source": [
    "Intially given function for finding primes as per the instructions"
   ]
  },
  {
   "cell_type": "code",
   "execution_count": 2,
   "id": "1552de34",
   "metadata": {},
   "outputs": [
    {
     "name": "stdout",
     "output_type": "stream",
     "text": [
      "1743799920.366998\n"
     ]
    }
   ],
   "source": [
    "import time\n",
    "\n",
    "\n",
    "def is_prime(n):\n",
    "    if n <= 1:\n",
    "        return False\n",
    "    for i in range(2, int(n ** 0.5) + 1):\n",
    "        if n % i == 0:\n",
    "            return False\n",
    "    return True\n",
    "\n",
    "\n",
    "\n",
    "\n",
    "print(time.time())"
   ]
  },
  {
   "cell_type": "markdown",
   "id": "a588d920",
   "metadata": {},
   "source": [
    "Asynchronous Application"
   ]
  },
  {
   "cell_type": "code",
   "execution_count": 7,
   "id": "abfa192b",
   "metadata": {},
   "outputs": [
    {
     "name": "stdout",
     "output_type": "stream",
     "text": [
      "Aysync highest prime: 13713923\n"
     ]
    }
   ],
   "source": [
    "import asyncio \n",
    "import nest_asyncio\n",
    "nest_asyncio.apply()\n",
    "\n",
    "\n",
    "async def prime_calc():\n",
    "    start_time = time.time()\n",
    "    primestor=[]\n",
    "    primecount=0\n",
    "    while (time.time()-start_time < 180): \n",
    "        if  is_prime(primecount)==True:\n",
    "            primestor.append(primecount)\n",
    "        primecount +=1\n",
    "    print( \"Aysync highest prime:\",primestor[-1])\n",
    "\n",
    "\n",
    "\n",
    "asyncio.run(prime_calc())"
   ]
  },
  {
   "cell_type": "markdown",
   "id": "7be121d5",
   "metadata": {},
   "source": [
    "Threaded Application\n"
   ]
  },
  {
   "cell_type": "code",
   "execution_count": 8,
   "id": "5aa2daf1",
   "metadata": {},
   "outputs": [
    {
     "name": "stdout",
     "output_type": "stream",
     "text": [
      "Threaded highest prime: 2871061\n"
     ]
    }
   ],
   "source": [
    "import threading\n",
    "\n",
    "thfinalpr=0\n",
    "def thprimcal():\n",
    "    start_time = time.time()\n",
    "    thprimestor=[]\n",
    "    thprimecount=0\n",
    "    while (time.time()-start_time < 18): \n",
    "        if is_prime(thprimecount)==True:\n",
    "            thprimestor.append(thprimecount)\n",
    "        thprimecount +=1\n",
    "    global thfinalpr \n",
    "    thfinalpr = thprimestor[-1]\n",
    "threads = [threading.Thread(target=thprimcal()) for _ in range(10)]  #taken and modified from threading example in notes {start}\n",
    "for thread in threads:\n",
    "    thread.start()\n",
    "for thread in threads:\n",
    "    thread.join()       #taken and modified from threading example in notes {end}\n",
    "print( \"Threaded highest prime:\", thfinalpr)"
   ]
  }
 ],
 "metadata": {
  "kernelspec": {
   "display_name": "base",
   "language": "python",
   "name": "python3"
  },
  "language_info": {
   "codemirror_mode": {
    "name": "ipython",
    "version": 3
   },
   "file_extension": ".py",
   "mimetype": "text/x-python",
   "name": "python",
   "nbconvert_exporter": "python",
   "pygments_lexer": "ipython3",
   "version": "3.12.7"
  }
 },
 "nbformat": 4,
 "nbformat_minor": 5
}
