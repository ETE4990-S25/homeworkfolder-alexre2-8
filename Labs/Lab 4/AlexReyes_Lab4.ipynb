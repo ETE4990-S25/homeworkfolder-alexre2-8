{
 "cells": [
  {
   "cell_type": "markdown",
   "id": "f7b949c5",
   "metadata": {},
   "source": [
    "Using the following dataset from google (literally \"romantic movies json dataset\") as many of the datasets on Kaggle appeared to be in the .csv format\n",
    "https://github.com/vega/vega/blob/main/docs/data/movies.json"
   ]
  },
  {
   "cell_type": "code",
   "execution_count": null,
   "id": "10f248be",
   "metadata": {},
   "outputs": [],
   "source": [
    "import json\n",
    "\n"
   ]
  }
 ],
 "metadata": {
  "language_info": {
   "name": "python"
  }
 },
 "nbformat": 4,
 "nbformat_minor": 5
}
